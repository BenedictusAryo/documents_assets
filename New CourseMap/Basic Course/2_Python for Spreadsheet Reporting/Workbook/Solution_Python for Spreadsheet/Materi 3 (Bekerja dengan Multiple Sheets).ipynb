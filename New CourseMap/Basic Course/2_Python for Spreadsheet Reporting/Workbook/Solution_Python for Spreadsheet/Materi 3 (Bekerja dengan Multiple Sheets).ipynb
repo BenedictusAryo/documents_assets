{
 "cells": [
  {
   "cell_type": "markdown",
   "metadata": {},
   "source": [
    "# Bekerja dengan Multiple Sheets"
   ]
  },
  {
   "cell_type": "markdown",
   "metadata": {},
   "source": [
    "Panggil package pandas seperti berikut"
   ]
  },
  {
   "cell_type": "code",
   "execution_count": 1,
   "metadata": {},
   "outputs": [],
   "source": [
    "import pandas as pd"
   ]
  },
  {
   "cell_type": "markdown",
   "metadata": {},
   "source": [
    "Ketika kita mempunyai data salam bentuk spreadsheet, jarang sekali kita menggunakan hanya 1 tab. Pada pembahasan kali ini melakukan pemanggilan data ketika mempunyai multi sheet. Data yang digunakan yaitu data nilai matematika yang mempunyai 2 sheet. "
   ]
  },
  {
   "cell_type": "markdown",
   "metadata": {},
   "source": [
    "** Sheet Kelamin **\n",
    "<img src=\"assets/1.png\" width=\"240\" height=\"240\" align=\"center\"/>"
   ]
  },
  {
   "cell_type": "markdown",
   "metadata": {},
   "source": [
    "** Sheet Nilai ** \n",
    "<img src=\"assets/2.png\" width=\"240\" height=\"240\" align=\"center\"/>"
   ]
  },
  {
   "cell_type": "markdown",
   "metadata": {},
   "source": [
    "Inputkan data_nilai_matematika1.xlsx yang ada di file data dengan nama data_workbook. "
   ]
  },
  {
   "cell_type": "code",
   "execution_count": 61,
   "metadata": {},
   "outputs": [],
   "source": [
    "# read workbook\n",
    "data_workbook = pd.ExcelFile('data/data_nilai_matematika1.xlsx')"
   ]
  },
  {
   "cell_type": "code",
   "execution_count": 59,
   "metadata": {},
   "outputs": [
    {
     "name": "stdout",
     "output_type": "stream",
     "text": [
      "<pandas.io.excel.ExcelFile object at 0x000000000826D198>\n"
     ]
    }
   ],
   "source": [
    "print(data_workbook)"
   ]
  },
  {
   "cell_type": "code",
   "execution_count": null,
   "metadata": {},
   "outputs": [],
   "source": [
    "##### coba cari lagi "
   ]
  },
  {
   "cell_type": "markdown",
   "metadata": {},
   "source": [
    "##### Attributes"
   ]
  },
  {
   "cell_type": "markdown",
   "metadata": {},
   "source": [
    "Pada spreadsheet yang digunakan berisikan sheet-sheet yang dapat kita lihat nama-nama sheet-nya sebagai berikut"
   ]
  },
  {
   "cell_type": "code",
   "execution_count": 49,
   "metadata": {},
   "outputs": [],
   "source": [
    "# get sheet names\n",
    "data_sheet_names = data_workbook.sheet_names"
   ]
  },
  {
   "cell_type": "code",
   "execution_count": 50,
   "metadata": {},
   "outputs": [
    {
     "name": "stdout",
     "output_type": "stream",
     "text": [
      "['Kelamin', 'Nilai']\n"
     ]
    }
   ],
   "source": [
    "print(data_sheet_names)"
   ]
  },
  {
   "cell_type": "markdown",
   "metadata": {},
   "source": [
    "Dari data excel, kita ketahui dari output diatas mempunyai 2 sheet yaitu dengan nama Kelamin dan Nilai."
   ]
  },
  {
   "cell_type": "markdown",
   "metadata": {},
   "source": [
    "##### Attributes vs methods vs functions "
   ]
  },
  {
   "cell_type": "markdown",
   "metadata": {},
   "source": [
    "** Attributes **\n",
    "- object.attribute\n",
    "- workbook.sheet_names\n",
    "- Memberitahukan sesuatu (misal : isi dari excel yang dipanggil)\n",
    "- Always attached to an object! (?)"
   ]
  },
  {
   "cell_type": "markdown",
   "metadata": {},
   "source": [
    "** Methods **\n",
    "- object.method()\n",
    "- workbook.parse()\n",
    "- Melakukan sesuatu (misalnya: hanya menampilkan isi salah satu variabel)\n",
    "- Always attached to an object! (?)"
   ]
  },
  {
   "cell_type": "markdown",
   "metadata": {},
   "source": [
    "** Functions **\n",
    "- function() or package.function()\n",
    "- pd.ExcelFile()"
   ]
  },
  {
   "cell_type": "markdown",
   "metadata": {},
   "source": [
    "Mencetak data variabel \"Kelamin\" menjadi dataframe"
   ]
  },
  {
   "cell_type": "code",
   "execution_count": 51,
   "metadata": {},
   "outputs": [
    {
     "name": "stdout",
     "output_type": "stream",
     "text": [
      "      Nama    Kelamin       NIM\n",
      "0   ANDI S  Laki-laki  14611155\n",
      "1      IVA  Perempuan  14611156\n",
      "2    IHSAN  Laki-laki  14611157\n",
      "3     DEWI  Perempuan  14611158\n",
      "4   KURNIA  Perempuan  14611159\n",
      "5      EKO  Laki-laki  14611160\n",
      "6     TIKA  Perempuan  14611161\n",
      "7    FITRI  Perempuan  14611162\n",
      "8     GITA  Perempuan  14611163\n",
      "9   HAFIDZ  Laki-laki  14611164\n",
      "10    MAYA  Perempuan  14611165\n",
      "11  LUKMAN  Laki-laki  14611166\n",
      "12   APRIL  Perempuan  14611167\n",
      "13     EKA  Perempuan  14611168\n",
      "14    WATI  Perempuan  14611169\n"
     ]
    }
   ],
   "source": [
    "# parce \"Nilai\" tab\n",
    "data_kelamin = data_workbook.parse('Kelamin')\n",
    "print(data_kelamin)"
   ]
  },
  {
   "cell_type": "code",
   "execution_count": 52,
   "metadata": {},
   "outputs": [
    {
     "name": "stdout",
     "output_type": "stream",
     "text": [
      "      Nama  Nilai\n",
      "0   Andi S     80\n",
      "1      Iva     74\n",
      "2    Ihsan     75\n",
      "3     Dewi     76\n",
      "4   Kurnia     39\n",
      "5      Eko     65\n",
      "6     Tika     73\n",
      "7    Fitri     60\n",
      "8     Gita     63\n",
      "9   Hafidz     75\n",
      "10    Maya     69\n",
      "11  Lukman     75\n",
      "12   April     90\n",
      "13     Eka     84\n",
      "14    Wati     76\n"
     ]
    }
   ],
   "source": [
    "data_nilai = data_workbook.parse('Nilai')\n",
    "print(data_nilai)"
   ]
  },
  {
   "cell_type": "markdown",
   "metadata": {},
   "source": [
    "Dari penginputan data diatas bisa kita ketahui sebagai berikut: \n",
    "- pd.ExcelFile() (function)\n",
    "- workbook.sheet_names (attribute)\n",
    "- workbook.parse() (method)"
   ]
  },
  {
   "cell_type": "markdown",
   "metadata": {},
   "source": [
    "##### Menggabungkan Tabel "
   ]
  },
  {
   "cell_type": "markdown",
   "metadata": {},
   "source": [
    "##### Penggabungan : dengan VLOOKUP pada Data Science"
   ]
  },
  {
   "cell_type": "markdown",
   "metadata": {},
   "source": [
    "Penggabungan Tabel pada python\n",
    "<br>\n",
    "Sebelumnya, perlu diketahui bahwa Python merupakan program yang case-sensitive (sensitive terhadap perbedaan. misalnya: huruf besar dengan huruf kecil, spasi, dll).\n",
    "Misalnya : \n",
    "Sensitive huruf besar dan huruf kecil\n",
    "- 'Andi' != 'andi'\n",
    "Sensitive terhadap spasi\n",
    "- 'Andi'!= 'Andi  '\n",
    "Menggabungkan tabel, misalnya\n",
    "- AB + ACD = ABCD, jika kita hanya inginkan kolom variabel ABC\n",
    "- Kita dappat menghapus kolom variabel D.\n",
    "\n",
    "Keterangan  :\n",
    "!= :  Tidak sama dengan "
   ]
  },
  {
   "cell_type": "markdown",
   "metadata": {},
   "source": [
    "##### How to Handle Case-Sensitive"
   ]
  },
  {
   "cell_type": "markdown",
   "metadata": {},
   "source": [
    "In **data_kelamin** we can see that when we input data for **Nama** variable with capital letters, we can change as we like.\n"
   ]
  },
  {
   "cell_type": "markdown",
   "metadata": {},
   "source": [
    "Change data with a lower letter."
   ]
  },
  {
   "cell_type": "code",
   "execution_count": 53,
   "metadata": {},
   "outputs": [
    {
     "name": "stdout",
     "output_type": "stream",
     "text": [
      "      Nama    Kelamin       NIM\n",
      "0   andi s  Laki-laki  14611155\n",
      "1      iva  Perempuan  14611156\n",
      "2    ihsan  Laki-laki  14611157\n",
      "3     dewi  Perempuan  14611158\n",
      "4   kurnia  Perempuan  14611159\n",
      "5      eko  Laki-laki  14611160\n",
      "6     tika  Perempuan  14611161\n",
      "7    fitri  Perempuan  14611162\n",
      "8     gita  Perempuan  14611163\n",
      "9   hafidz  Laki-laki  14611164\n",
      "10    maya  Perempuan  14611165\n",
      "11  lukman  Laki-laki  14611166\n",
      "12   april  Perempuan  14611167\n",
      "13     eka  Perempuan  14611168\n",
      "14    wati  Perempuan  14611169\n"
     ]
    }
   ],
   "source": [
    "data_kelamin['Nama'] = data_kelamin['Nama'].str.lower()\n",
    "print(data_kelamin)"
   ]
  },
  {
   "cell_type": "markdown",
   "metadata": {},
   "source": [
    "In **data_kelamin**, first **Nama** data have all in capital letters. After using ``str.lower()``, we can change into lower letters."
   ]
  },
  {
   "cell_type": "markdown",
   "metadata": {},
   "source": [
    "Change data with all capital letter."
   ]
  },
  {
   "cell_type": "code",
   "execution_count": 54,
   "metadata": {},
   "outputs": [
    {
     "name": "stdout",
     "output_type": "stream",
     "text": [
      "      Nama    Kelamin       NIM\n",
      "0   ANDI S  Laki-laki  14611155\n",
      "1      IVA  Perempuan  14611156\n",
      "2    IHSAN  Laki-laki  14611157\n",
      "3     DEWI  Perempuan  14611158\n",
      "4   KURNIA  Perempuan  14611159\n",
      "5      EKO  Laki-laki  14611160\n",
      "6     TIKA  Perempuan  14611161\n",
      "7    FITRI  Perempuan  14611162\n",
      "8     GITA  Perempuan  14611163\n",
      "9   HAFIDZ  Laki-laki  14611164\n",
      "10    MAYA  Perempuan  14611165\n",
      "11  LUKMAN  Laki-laki  14611166\n",
      "12   APRIL  Perempuan  14611167\n",
      "13     EKA  Perempuan  14611168\n",
      "14    WATI  Perempuan  14611169\n"
     ]
    }
   ],
   "source": [
    "data_kelamin['Nama'] = data_kelamin['Nama'].str.upper()\n",
    "print(data_kelamin)"
   ]
  },
  {
   "cell_type": "markdown",
   "metadata": {},
   "source": [
    "After using ``str.upper()`` can change into capital letter."
   ]
  },
  {
   "cell_type": "code",
   "execution_count": 55,
   "metadata": {},
   "outputs": [
    {
     "name": "stdout",
     "output_type": "stream",
     "text": [
      "      Nama    Kelamin       NIM\n",
      "0   Andi S  Laki-laki  14611155\n",
      "1      Iva  Perempuan  14611156\n",
      "2    Ihsan  Laki-laki  14611157\n",
      "3     Dewi  Perempuan  14611158\n",
      "4   Kurnia  Perempuan  14611159\n",
      "5      Eko  Laki-laki  14611160\n",
      "6     Tika  Perempuan  14611161\n",
      "7    Fitri  Perempuan  14611162\n",
      "8     Gita  Perempuan  14611163\n",
      "9   Hafidz  Laki-laki  14611164\n",
      "10    Maya  Perempuan  14611165\n",
      "11  Lukman  Laki-laki  14611166\n",
      "12   April  Perempuan  14611167\n",
      "13     Eka  Perempuan  14611168\n",
      "14    Wati  Perempuan  14611169\n"
     ]
    }
   ],
   "source": [
    "data_kelamin['Nama'] = data_kelamin['Nama'].str.title()\n",
    "print(data_kelamin)"
   ]
  },
  {
   "cell_type": "markdown",
   "metadata": {},
   "source": [
    "After using ``str.title()``, we can change into an upper letter for first word."
   ]
  },
  {
   "cell_type": "markdown",
   "metadata": {},
   "source": [
    "##### Space Handling"
   ]
  },
  {
   "cell_type": "code",
   "execution_count": 62,
   "metadata": {},
   "outputs": [
    {
     "name": "stdout",
     "output_type": "stream",
     "text": [
      "      Nama    Kelamin       NIM\n",
      "0   Andi S  Laki-laki  14611155\n",
      "1      Iva  Perempuan  14611156\n",
      "2    Ihsan  Laki-laki  14611157\n",
      "3     Dewi  Perempuan  14611158\n",
      "4   Kurnia  Perempuan  14611159\n",
      "5      Eko  Laki-laki  14611160\n",
      "6     Tika  Perempuan  14611161\n",
      "7    Fitri  Perempuan  14611162\n",
      "8     Gita  Perempuan  14611163\n",
      "9   Hafidz  Laki-laki  14611164\n",
      "10    Maya  Perempuan  14611165\n",
      "11  Lukman  Laki-laki  14611166\n",
      "12   April  Perempuan  14611167\n",
      "13     Eka  Perempuan  14611168\n",
      "14    Wati  Perempuan  14611169\n"
     ]
    }
   ],
   "source": [
    "# Handling whitespace with .str.strip()\n",
    "data_kelamin['Nama'] = data_kelamin['Nama'].str.strip()\n",
    "print(data_kelamin)"
   ]
  },
  {
   "cell_type": "markdown",
   "metadata": {},
   "source": [
    "We can see that in **Kelamin** data, in **Nama** variable with has two spaces, using ``str.strip()`` it will be just one space."
   ]
  },
  {
   "cell_type": "markdown",
   "metadata": {},
   "source": [
    "##### Choosing and Deleting Column"
   ]
  },
  {
   "cell_type": "markdown",
   "metadata": {},
   "source": [
    "Choosing data from sheet **Kelamin** for **Nama** and **Kelamin** variable."
   ]
  },
  {
   "cell_type": "code",
   "execution_count": 23,
   "metadata": {},
   "outputs": [
    {
     "data": {
      "text/html": [
       "<div>\n",
       "<style scoped>\n",
       "    .dataframe tbody tr th:only-of-type {\n",
       "        vertical-align: middle;\n",
       "    }\n",
       "\n",
       "    .dataframe tbody tr th {\n",
       "        vertical-align: top;\n",
       "    }\n",
       "\n",
       "    .dataframe thead th {\n",
       "        text-align: right;\n",
       "    }\n",
       "</style>\n",
       "<table border=\"1\" class=\"dataframe\">\n",
       "  <thead>\n",
       "    <tr style=\"text-align: right;\">\n",
       "      <th></th>\n",
       "      <th>Nama</th>\n",
       "      <th>Kelamin</th>\n",
       "    </tr>\n",
       "  </thead>\n",
       "  <tbody>\n",
       "    <tr>\n",
       "      <th>0</th>\n",
       "      <td>Andi</td>\n",
       "      <td>Laki-laki</td>\n",
       "    </tr>\n",
       "    <tr>\n",
       "      <th>1</th>\n",
       "      <td>Iva</td>\n",
       "      <td>Perempuan</td>\n",
       "    </tr>\n",
       "    <tr>\n",
       "      <th>2</th>\n",
       "      <td>Ihsan</td>\n",
       "      <td>Laki-laki</td>\n",
       "    </tr>\n",
       "    <tr>\n",
       "      <th>3</th>\n",
       "      <td>Dewi</td>\n",
       "      <td>Perempuan</td>\n",
       "    </tr>\n",
       "    <tr>\n",
       "      <th>4</th>\n",
       "      <td>Kurnia</td>\n",
       "      <td>Perempuan</td>\n",
       "    </tr>\n",
       "    <tr>\n",
       "      <th>5</th>\n",
       "      <td>Eko</td>\n",
       "      <td>Laki-laki</td>\n",
       "    </tr>\n",
       "    <tr>\n",
       "      <th>6</th>\n",
       "      <td>Tika</td>\n",
       "      <td>Perempuan</td>\n",
       "    </tr>\n",
       "    <tr>\n",
       "      <th>7</th>\n",
       "      <td>Fitri</td>\n",
       "      <td>Perempuan</td>\n",
       "    </tr>\n",
       "    <tr>\n",
       "      <th>8</th>\n",
       "      <td>Gita</td>\n",
       "      <td>Perempuan</td>\n",
       "    </tr>\n",
       "    <tr>\n",
       "      <th>9</th>\n",
       "      <td>Hafidz</td>\n",
       "      <td>Laki-laki</td>\n",
       "    </tr>\n",
       "    <tr>\n",
       "      <th>10</th>\n",
       "      <td>Maya</td>\n",
       "      <td>Perempuan</td>\n",
       "    </tr>\n",
       "    <tr>\n",
       "      <th>11</th>\n",
       "      <td>Lukman</td>\n",
       "      <td>Laki-laki</td>\n",
       "    </tr>\n",
       "    <tr>\n",
       "      <th>12</th>\n",
       "      <td>April</td>\n",
       "      <td>Perempuan</td>\n",
       "    </tr>\n",
       "    <tr>\n",
       "      <th>13</th>\n",
       "      <td>Eka</td>\n",
       "      <td>Perempuan</td>\n",
       "    </tr>\n",
       "    <tr>\n",
       "      <th>14</th>\n",
       "      <td>Wati</td>\n",
       "      <td>Perempuan</td>\n",
       "    </tr>\n",
       "  </tbody>\n",
       "</table>\n",
       "</div>"
      ],
      "text/plain": [
       "      Nama    Kelamin\n",
       "0     Andi  Laki-laki\n",
       "1      Iva  Perempuan\n",
       "2    Ihsan  Laki-laki\n",
       "3     Dewi  Perempuan\n",
       "4   Kurnia  Perempuan\n",
       "5      Eko  Laki-laki\n",
       "6     Tika  Perempuan\n",
       "7    Fitri  Perempuan\n",
       "8     Gita  Perempuan\n",
       "9   Hafidz  Laki-laki\n",
       "10    Maya  Perempuan\n",
       "11  Lukman  Laki-laki\n",
       "12   April  Perempuan\n",
       "13     Eka  Perempuan\n",
       "14    Wati  Perempuan"
      ]
     },
     "execution_count": 23,
     "metadata": {},
     "output_type": "execute_result"
    }
   ],
   "source": [
    "# selecting columns\n",
    "data_kelamin[['Nama','Kelamin']]"
   ]
  },
  {
   "cell_type": "markdown",
   "metadata": {},
   "source": [
    "##### Deleting column with drop()"
   ]
  },
  {
   "cell_type": "markdown",
   "metadata": {},
   "source": [
    "If we are not needed to using **Kelamin** variable in data, we can just deleting that column."
   ]
  },
  {
   "cell_type": "code",
   "execution_count": 25,
   "metadata": {},
   "outputs": [
    {
     "data": {
      "text/html": [
       "<div>\n",
       "<style scoped>\n",
       "    .dataframe tbody tr th:only-of-type {\n",
       "        vertical-align: middle;\n",
       "    }\n",
       "\n",
       "    .dataframe tbody tr th {\n",
       "        vertical-align: top;\n",
       "    }\n",
       "\n",
       "    .dataframe thead th {\n",
       "        text-align: right;\n",
       "    }\n",
       "</style>\n",
       "<table border=\"1\" class=\"dataframe\">\n",
       "  <thead>\n",
       "    <tr style=\"text-align: right;\">\n",
       "      <th></th>\n",
       "      <th>Nama</th>\n",
       "      <th>NIM</th>\n",
       "    </tr>\n",
       "  </thead>\n",
       "  <tbody>\n",
       "    <tr>\n",
       "      <th>0</th>\n",
       "      <td>Andi</td>\n",
       "      <td>14611155</td>\n",
       "    </tr>\n",
       "    <tr>\n",
       "      <th>1</th>\n",
       "      <td>Iva</td>\n",
       "      <td>14611156</td>\n",
       "    </tr>\n",
       "    <tr>\n",
       "      <th>2</th>\n",
       "      <td>Ihsan</td>\n",
       "      <td>14611157</td>\n",
       "    </tr>\n",
       "    <tr>\n",
       "      <th>3</th>\n",
       "      <td>Dewi</td>\n",
       "      <td>14611158</td>\n",
       "    </tr>\n",
       "    <tr>\n",
       "      <th>4</th>\n",
       "      <td>Kurnia</td>\n",
       "      <td>14611159</td>\n",
       "    </tr>\n",
       "    <tr>\n",
       "      <th>5</th>\n",
       "      <td>Eko</td>\n",
       "      <td>14611160</td>\n",
       "    </tr>\n",
       "    <tr>\n",
       "      <th>6</th>\n",
       "      <td>Tika</td>\n",
       "      <td>14611161</td>\n",
       "    </tr>\n",
       "    <tr>\n",
       "      <th>7</th>\n",
       "      <td>Fitri</td>\n",
       "      <td>14611162</td>\n",
       "    </tr>\n",
       "    <tr>\n",
       "      <th>8</th>\n",
       "      <td>Gita</td>\n",
       "      <td>14611163</td>\n",
       "    </tr>\n",
       "    <tr>\n",
       "      <th>9</th>\n",
       "      <td>Hafidz</td>\n",
       "      <td>14611164</td>\n",
       "    </tr>\n",
       "    <tr>\n",
       "      <th>10</th>\n",
       "      <td>Maya</td>\n",
       "      <td>14611165</td>\n",
       "    </tr>\n",
       "    <tr>\n",
       "      <th>11</th>\n",
       "      <td>Lukman</td>\n",
       "      <td>14611166</td>\n",
       "    </tr>\n",
       "    <tr>\n",
       "      <th>12</th>\n",
       "      <td>April</td>\n",
       "      <td>14611167</td>\n",
       "    </tr>\n",
       "    <tr>\n",
       "      <th>13</th>\n",
       "      <td>Eka</td>\n",
       "      <td>14611168</td>\n",
       "    </tr>\n",
       "    <tr>\n",
       "      <th>14</th>\n",
       "      <td>Wati</td>\n",
       "      <td>14611169</td>\n",
       "    </tr>\n",
       "  </tbody>\n",
       "</table>\n",
       "</div>"
      ],
      "text/plain": [
       "      Nama       NIM\n",
       "0     Andi  14611155\n",
       "1      Iva  14611156\n",
       "2    Ihsan  14611157\n",
       "3     Dewi  14611158\n",
       "4   Kurnia  14611159\n",
       "5      Eko  14611160\n",
       "6     Tika  14611161\n",
       "7    Fitri  14611162\n",
       "8     Gita  14611163\n",
       "9   Hafidz  14611164\n",
       "10    Maya  14611165\n",
       "11  Lukman  14611166\n",
       "12   April  14611167\n",
       "13     Eka  14611168\n",
       "14    Wati  14611169"
      ]
     },
     "execution_count": 25,
     "metadata": {},
     "output_type": "execute_result"
    }
   ],
   "source": [
    "# drop columns\n",
    "data_kelamin.drop('Kelamin', axis=1)"
   ]
  },
  {
   "cell_type": "markdown",
   "metadata": {},
   "source": [
    "##### Menggabungkan Tabel : VLOOKUP pada Python\n",
    "\n",
    "Merge Table:"
   ]
  },
  {
   "cell_type": "markdown",
   "metadata": {},
   "source": [
    "Menggabungkan sheet data_kelamin dengan sheet data_nilai dengan menyatukan dengan variabel yang sama yaitu \"Nama\" dan data di sheet data_nilai diposisi kiri sheet data_kelamin. "
   ]
  },
  {
   "cell_type": "code",
   "execution_count": 67,
   "metadata": {
    "scrolled": true
   },
   "outputs": [
    {
     "data": {
      "text/html": [
       "<div>\n",
       "<style scoped>\n",
       "    .dataframe tbody tr th:only-of-type {\n",
       "        vertical-align: middle;\n",
       "    }\n",
       "\n",
       "    .dataframe tbody tr th {\n",
       "        vertical-align: top;\n",
       "    }\n",
       "\n",
       "    .dataframe thead th {\n",
       "        text-align: right;\n",
       "    }\n",
       "</style>\n",
       "<table border=\"1\" class=\"dataframe\">\n",
       "  <thead>\n",
       "    <tr style=\"text-align: right;\">\n",
       "      <th></th>\n",
       "      <th>Nama</th>\n",
       "      <th>Kelamin</th>\n",
       "      <th>NIM</th>\n",
       "      <th>Nilai</th>\n",
       "    </tr>\n",
       "  </thead>\n",
       "  <tbody>\n",
       "    <tr>\n",
       "      <th>0</th>\n",
       "      <td>Andi S</td>\n",
       "      <td>Laki-laki</td>\n",
       "      <td>14611155</td>\n",
       "      <td>80</td>\n",
       "    </tr>\n",
       "    <tr>\n",
       "      <th>1</th>\n",
       "      <td>Iva</td>\n",
       "      <td>Perempuan</td>\n",
       "      <td>14611156</td>\n",
       "      <td>74</td>\n",
       "    </tr>\n",
       "    <tr>\n",
       "      <th>2</th>\n",
       "      <td>Ihsan</td>\n",
       "      <td>Laki-laki</td>\n",
       "      <td>14611157</td>\n",
       "      <td>75</td>\n",
       "    </tr>\n",
       "    <tr>\n",
       "      <th>3</th>\n",
       "      <td>Dewi</td>\n",
       "      <td>Perempuan</td>\n",
       "      <td>14611158</td>\n",
       "      <td>76</td>\n",
       "    </tr>\n",
       "    <tr>\n",
       "      <th>4</th>\n",
       "      <td>Kurnia</td>\n",
       "      <td>Perempuan</td>\n",
       "      <td>14611159</td>\n",
       "      <td>39</td>\n",
       "    </tr>\n",
       "    <tr>\n",
       "      <th>5</th>\n",
       "      <td>Eko</td>\n",
       "      <td>Laki-laki</td>\n",
       "      <td>14611160</td>\n",
       "      <td>65</td>\n",
       "    </tr>\n",
       "    <tr>\n",
       "      <th>6</th>\n",
       "      <td>Tika</td>\n",
       "      <td>Perempuan</td>\n",
       "      <td>14611161</td>\n",
       "      <td>73</td>\n",
       "    </tr>\n",
       "    <tr>\n",
       "      <th>7</th>\n",
       "      <td>Fitri</td>\n",
       "      <td>Perempuan</td>\n",
       "      <td>14611162</td>\n",
       "      <td>60</td>\n",
       "    </tr>\n",
       "    <tr>\n",
       "      <th>8</th>\n",
       "      <td>Gita</td>\n",
       "      <td>Perempuan</td>\n",
       "      <td>14611163</td>\n",
       "      <td>63</td>\n",
       "    </tr>\n",
       "    <tr>\n",
       "      <th>9</th>\n",
       "      <td>Hafidz</td>\n",
       "      <td>Laki-laki</td>\n",
       "      <td>14611164</td>\n",
       "      <td>75</td>\n",
       "    </tr>\n",
       "    <tr>\n",
       "      <th>10</th>\n",
       "      <td>Maya</td>\n",
       "      <td>Perempuan</td>\n",
       "      <td>14611165</td>\n",
       "      <td>69</td>\n",
       "    </tr>\n",
       "    <tr>\n",
       "      <th>11</th>\n",
       "      <td>Lukman</td>\n",
       "      <td>Laki-laki</td>\n",
       "      <td>14611166</td>\n",
       "      <td>75</td>\n",
       "    </tr>\n",
       "    <tr>\n",
       "      <th>12</th>\n",
       "      <td>April</td>\n",
       "      <td>Perempuan</td>\n",
       "      <td>14611167</td>\n",
       "      <td>90</td>\n",
       "    </tr>\n",
       "    <tr>\n",
       "      <th>13</th>\n",
       "      <td>Eka</td>\n",
       "      <td>Perempuan</td>\n",
       "      <td>14611168</td>\n",
       "      <td>84</td>\n",
       "    </tr>\n",
       "    <tr>\n",
       "      <th>14</th>\n",
       "      <td>Wati</td>\n",
       "      <td>Perempuan</td>\n",
       "      <td>14611169</td>\n",
       "      <td>76</td>\n",
       "    </tr>\n",
       "  </tbody>\n",
       "</table>\n",
       "</div>"
      ],
      "text/plain": [
       "      Nama    Kelamin       NIM  Nilai\n",
       "0   Andi S  Laki-laki  14611155     80\n",
       "1      Iva  Perempuan  14611156     74\n",
       "2    Ihsan  Laki-laki  14611157     75\n",
       "3     Dewi  Perempuan  14611158     76\n",
       "4   Kurnia  Perempuan  14611159     39\n",
       "5      Eko  Laki-laki  14611160     65\n",
       "6     Tika  Perempuan  14611161     73\n",
       "7    Fitri  Perempuan  14611162     60\n",
       "8     Gita  Perempuan  14611163     63\n",
       "9   Hafidz  Laki-laki  14611164     75\n",
       "10    Maya  Perempuan  14611165     69\n",
       "11  Lukman  Laki-laki  14611166     75\n",
       "12   April  Perempuan  14611167     90\n",
       "13     Eka  Perempuan  14611168     84\n",
       "14    Wati  Perempuan  14611169     76"
      ]
     },
     "execution_count": 67,
     "metadata": {},
     "output_type": "execute_result"
    }
   ],
   "source": [
    "data_kelamin.merge(data_nilai, on='Nama', how='left')"
   ]
  },
  {
   "cell_type": "markdown",
   "metadata": {},
   "source": [
    "##### lef_on and right ketika .merge()"
   ]
  },
  {
   "cell_type": "markdown",
   "metadata": {},
   "source": [
    "Pada kasus ini misalkan kita inputkan data_nilai_matematika2.xlsx"
   ]
  },
  {
   "cell_type": "code",
   "execution_count": 72,
   "metadata": {},
   "outputs": [],
   "source": [
    "# read workbook\n",
    "data_workbook = pd.ExcelFile('data/data_nilai_matematika2.xlsx')"
   ]
  },
  {
   "cell_type": "markdown",
   "metadata": {},
   "source": [
    "Sebelumnya, mari kita lihat data pada data_nilai_matematika2.xlsx.  Melihat data sheet kelamin. "
   ]
  },
  {
   "cell_type": "code",
   "execution_count": 78,
   "metadata": {},
   "outputs": [
    {
     "data": {
      "text/html": [
       "<div>\n",
       "<style scoped>\n",
       "    .dataframe tbody tr th:only-of-type {\n",
       "        vertical-align: middle;\n",
       "    }\n",
       "\n",
       "    .dataframe tbody tr th {\n",
       "        vertical-align: top;\n",
       "    }\n",
       "\n",
       "    .dataframe thead th {\n",
       "        text-align: right;\n",
       "    }\n",
       "</style>\n",
       "<table border=\"1\" class=\"dataframe\">\n",
       "  <thead>\n",
       "    <tr style=\"text-align: right;\">\n",
       "      <th></th>\n",
       "      <th>Nama</th>\n",
       "      <th>Kelamin</th>\n",
       "    </tr>\n",
       "  </thead>\n",
       "  <tbody>\n",
       "    <tr>\n",
       "      <th>0</th>\n",
       "      <td>Andi</td>\n",
       "      <td>Laki-laki</td>\n",
       "    </tr>\n",
       "    <tr>\n",
       "      <th>1</th>\n",
       "      <td>Iva</td>\n",
       "      <td>Perempuan</td>\n",
       "    </tr>\n",
       "    <tr>\n",
       "      <th>2</th>\n",
       "      <td>Ihsan</td>\n",
       "      <td>Laki-laki</td>\n",
       "    </tr>\n",
       "    <tr>\n",
       "      <th>3</th>\n",
       "      <td>Dewi</td>\n",
       "      <td>Perempuan</td>\n",
       "    </tr>\n",
       "    <tr>\n",
       "      <th>4</th>\n",
       "      <td>Kurnia</td>\n",
       "      <td>Perempuan</td>\n",
       "    </tr>\n",
       "  </tbody>\n",
       "</table>\n",
       "</div>"
      ],
      "text/plain": [
       "     Nama    Kelamin\n",
       "0    Andi  Laki-laki\n",
       "1     Iva  Perempuan\n",
       "2   Ihsan  Laki-laki\n",
       "3    Dewi  Perempuan\n",
       "4  Kurnia  Perempuan"
      ]
     },
     "execution_count": 78,
     "metadata": {},
     "output_type": "execute_result"
    }
   ],
   "source": [
    "data_kelamin = data_workbook.parse('Kelamin')\n",
    "data_kelamin.head()"
   ]
  },
  {
   "cell_type": "markdown",
   "metadata": {},
   "source": [
    "Pada output diatas data_kelamin terdapat variabel \"Nama\" dan \"Kelamin\". "
   ]
  },
  {
   "cell_type": "markdown",
   "metadata": {},
   "source": [
    "Melihat data pada sheet Nilai"
   ]
  },
  {
   "cell_type": "code",
   "execution_count": 79,
   "metadata": {},
   "outputs": [
    {
     "data": {
      "text/html": [
       "<div>\n",
       "<style scoped>\n",
       "    .dataframe tbody tr th:only-of-type {\n",
       "        vertical-align: middle;\n",
       "    }\n",
       "\n",
       "    .dataframe tbody tr th {\n",
       "        vertical-align: top;\n",
       "    }\n",
       "\n",
       "    .dataframe thead th {\n",
       "        text-align: right;\n",
       "    }\n",
       "</style>\n",
       "<table border=\"1\" class=\"dataframe\">\n",
       "  <thead>\n",
       "    <tr style=\"text-align: right;\">\n",
       "      <th></th>\n",
       "      <th>Nama Siswa</th>\n",
       "      <th>Nilai</th>\n",
       "    </tr>\n",
       "  </thead>\n",
       "  <tbody>\n",
       "    <tr>\n",
       "      <th>0</th>\n",
       "      <td>Andi</td>\n",
       "      <td>80</td>\n",
       "    </tr>\n",
       "    <tr>\n",
       "      <th>1</th>\n",
       "      <td>Iva</td>\n",
       "      <td>74</td>\n",
       "    </tr>\n",
       "    <tr>\n",
       "      <th>2</th>\n",
       "      <td>Ihsan</td>\n",
       "      <td>75</td>\n",
       "    </tr>\n",
       "    <tr>\n",
       "      <th>3</th>\n",
       "      <td>Dewi</td>\n",
       "      <td>76</td>\n",
       "    </tr>\n",
       "    <tr>\n",
       "      <th>4</th>\n",
       "      <td>Kurnia</td>\n",
       "      <td>39</td>\n",
       "    </tr>\n",
       "  </tbody>\n",
       "</table>\n",
       "</div>"
      ],
      "text/plain": [
       "  Nama Siswa  Nilai\n",
       "0       Andi     80\n",
       "1        Iva     74\n",
       "2      Ihsan     75\n",
       "3       Dewi     76\n",
       "4     Kurnia     39"
      ]
     },
     "execution_count": 79,
     "metadata": {},
     "output_type": "execute_result"
    }
   ],
   "source": [
    "data_nilai = data_workbook.parse('Nilai')\n",
    "data_nilai.head()"
   ]
  },
  {
   "cell_type": "markdown",
   "metadata": {},
   "source": [
    "Pada output diatas data_kelamin terdapat variabel \"Nama Siswa\" dan \"Kelamin\"."
   ]
  },
  {
   "cell_type": "markdown",
   "metadata": {},
   "source": [
    "Menggabungkan data_kelamin dengan data_nilai ketika datanya sama tetapi nama variabelnya berbeda. "
   ]
  },
  {
   "cell_type": "code",
   "execution_count": 81,
   "metadata": {},
   "outputs": [
    {
     "data": {
      "text/html": [
       "<div>\n",
       "<style scoped>\n",
       "    .dataframe tbody tr th:only-of-type {\n",
       "        vertical-align: middle;\n",
       "    }\n",
       "\n",
       "    .dataframe tbody tr th {\n",
       "        vertical-align: top;\n",
       "    }\n",
       "\n",
       "    .dataframe thead th {\n",
       "        text-align: right;\n",
       "    }\n",
       "</style>\n",
       "<table border=\"1\" class=\"dataframe\">\n",
       "  <thead>\n",
       "    <tr style=\"text-align: right;\">\n",
       "      <th></th>\n",
       "      <th>Nama</th>\n",
       "      <th>Kelamin</th>\n",
       "      <th>Nama Siswa</th>\n",
       "      <th>Nilai</th>\n",
       "    </tr>\n",
       "  </thead>\n",
       "  <tbody>\n",
       "    <tr>\n",
       "      <th>0</th>\n",
       "      <td>Andi</td>\n",
       "      <td>Laki-laki</td>\n",
       "      <td>Andi</td>\n",
       "      <td>80</td>\n",
       "    </tr>\n",
       "    <tr>\n",
       "      <th>1</th>\n",
       "      <td>Iva</td>\n",
       "      <td>Perempuan</td>\n",
       "      <td>Iva</td>\n",
       "      <td>74</td>\n",
       "    </tr>\n",
       "    <tr>\n",
       "      <th>2</th>\n",
       "      <td>Ihsan</td>\n",
       "      <td>Laki-laki</td>\n",
       "      <td>Ihsan</td>\n",
       "      <td>75</td>\n",
       "    </tr>\n",
       "    <tr>\n",
       "      <th>3</th>\n",
       "      <td>Dewi</td>\n",
       "      <td>Perempuan</td>\n",
       "      <td>Dewi</td>\n",
       "      <td>76</td>\n",
       "    </tr>\n",
       "    <tr>\n",
       "      <th>4</th>\n",
       "      <td>Kurnia</td>\n",
       "      <td>Perempuan</td>\n",
       "      <td>Kurnia</td>\n",
       "      <td>39</td>\n",
       "    </tr>\n",
       "    <tr>\n",
       "      <th>5</th>\n",
       "      <td>Eko</td>\n",
       "      <td>Laki-laki</td>\n",
       "      <td>Eko</td>\n",
       "      <td>65</td>\n",
       "    </tr>\n",
       "    <tr>\n",
       "      <th>6</th>\n",
       "      <td>Tika</td>\n",
       "      <td>Perempuan</td>\n",
       "      <td>Tika</td>\n",
       "      <td>73</td>\n",
       "    </tr>\n",
       "    <tr>\n",
       "      <th>7</th>\n",
       "      <td>Fitri</td>\n",
       "      <td>Perempuan</td>\n",
       "      <td>Fitri</td>\n",
       "      <td>60</td>\n",
       "    </tr>\n",
       "    <tr>\n",
       "      <th>8</th>\n",
       "      <td>Gita</td>\n",
       "      <td>Perempuan</td>\n",
       "      <td>Gita</td>\n",
       "      <td>63</td>\n",
       "    </tr>\n",
       "    <tr>\n",
       "      <th>9</th>\n",
       "      <td>Hafidz</td>\n",
       "      <td>Laki-laki</td>\n",
       "      <td>Hafidz</td>\n",
       "      <td>75</td>\n",
       "    </tr>\n",
       "    <tr>\n",
       "      <th>10</th>\n",
       "      <td>Maya</td>\n",
       "      <td>Perempuan</td>\n",
       "      <td>Maya</td>\n",
       "      <td>69</td>\n",
       "    </tr>\n",
       "    <tr>\n",
       "      <th>11</th>\n",
       "      <td>Lukman</td>\n",
       "      <td>Laki-laki</td>\n",
       "      <td>Lukman</td>\n",
       "      <td>75</td>\n",
       "    </tr>\n",
       "    <tr>\n",
       "      <th>12</th>\n",
       "      <td>April</td>\n",
       "      <td>Perempuan</td>\n",
       "      <td>April</td>\n",
       "      <td>90</td>\n",
       "    </tr>\n",
       "    <tr>\n",
       "      <th>13</th>\n",
       "      <td>Eka</td>\n",
       "      <td>Perempuan</td>\n",
       "      <td>Eka</td>\n",
       "      <td>84</td>\n",
       "    </tr>\n",
       "    <tr>\n",
       "      <th>14</th>\n",
       "      <td>Wati</td>\n",
       "      <td>Perempuan</td>\n",
       "      <td>Wati</td>\n",
       "      <td>76</td>\n",
       "    </tr>\n",
       "  </tbody>\n",
       "</table>\n",
       "</div>"
      ],
      "text/plain": [
       "      Nama    Kelamin Nama Siswa  Nilai\n",
       "0     Andi  Laki-laki       Andi     80\n",
       "1      Iva  Perempuan        Iva     74\n",
       "2    Ihsan  Laki-laki      Ihsan     75\n",
       "3     Dewi  Perempuan       Dewi     76\n",
       "4   Kurnia  Perempuan     Kurnia     39\n",
       "5      Eko  Laki-laki        Eko     65\n",
       "6     Tika  Perempuan       Tika     73\n",
       "7    Fitri  Perempuan      Fitri     60\n",
       "8     Gita  Perempuan       Gita     63\n",
       "9   Hafidz  Laki-laki     Hafidz     75\n",
       "10    Maya  Perempuan       Maya     69\n",
       "11  Lukman  Laki-laki     Lukman     75\n",
       "12   April  Perempuan      April     90\n",
       "13     Eka  Perempuan        Eka     84\n",
       "14    Wati  Perempuan       Wati     76"
      ]
     },
     "execution_count": 81,
     "metadata": {},
     "output_type": "execute_result"
    }
   ],
   "source": [
    "data_gabung = data_kelamin.merge(data_nilai, \n",
    "                   left_on='Nama', \n",
    "                   right_on='Nama Siswa', \n",
    "                   how='left')\n",
    "data_gabung"
   ]
  },
  {
   "cell_type": "markdown",
   "metadata": {},
   "source": [
    "Dapat dilihat pada syntax bahawa penggabungan dengan variabel \"Nama\" pada sheet Kelamin dan variabel \"Nama Siswa\" pada sheet Nilai. Pada data tersebut terdapat nama yang double maka lebih baik kita hapus salah satunya. "
   ]
  },
  {
   "cell_type": "markdown",
   "metadata": {},
   "source": [
    "Dalam hal ini penulis menghapus variabel \"Nama Siswa\""
   ]
  },
  {
   "cell_type": "code",
   "execution_count": 82,
   "metadata": {},
   "outputs": [
    {
     "data": {
      "text/html": [
       "<div>\n",
       "<style scoped>\n",
       "    .dataframe tbody tr th:only-of-type {\n",
       "        vertical-align: middle;\n",
       "    }\n",
       "\n",
       "    .dataframe tbody tr th {\n",
       "        vertical-align: top;\n",
       "    }\n",
       "\n",
       "    .dataframe thead th {\n",
       "        text-align: right;\n",
       "    }\n",
       "</style>\n",
       "<table border=\"1\" class=\"dataframe\">\n",
       "  <thead>\n",
       "    <tr style=\"text-align: right;\">\n",
       "      <th></th>\n",
       "      <th>Nama</th>\n",
       "      <th>Kelamin</th>\n",
       "      <th>Nilai</th>\n",
       "    </tr>\n",
       "  </thead>\n",
       "  <tbody>\n",
       "    <tr>\n",
       "      <th>0</th>\n",
       "      <td>Andi</td>\n",
       "      <td>Laki-laki</td>\n",
       "      <td>80</td>\n",
       "    </tr>\n",
       "    <tr>\n",
       "      <th>1</th>\n",
       "      <td>Iva</td>\n",
       "      <td>Perempuan</td>\n",
       "      <td>74</td>\n",
       "    </tr>\n",
       "    <tr>\n",
       "      <th>2</th>\n",
       "      <td>Ihsan</td>\n",
       "      <td>Laki-laki</td>\n",
       "      <td>75</td>\n",
       "    </tr>\n",
       "    <tr>\n",
       "      <th>3</th>\n",
       "      <td>Dewi</td>\n",
       "      <td>Perempuan</td>\n",
       "      <td>76</td>\n",
       "    </tr>\n",
       "    <tr>\n",
       "      <th>4</th>\n",
       "      <td>Kurnia</td>\n",
       "      <td>Perempuan</td>\n",
       "      <td>39</td>\n",
       "    </tr>\n",
       "    <tr>\n",
       "      <th>5</th>\n",
       "      <td>Eko</td>\n",
       "      <td>Laki-laki</td>\n",
       "      <td>65</td>\n",
       "    </tr>\n",
       "    <tr>\n",
       "      <th>6</th>\n",
       "      <td>Tika</td>\n",
       "      <td>Perempuan</td>\n",
       "      <td>73</td>\n",
       "    </tr>\n",
       "    <tr>\n",
       "      <th>7</th>\n",
       "      <td>Fitri</td>\n",
       "      <td>Perempuan</td>\n",
       "      <td>60</td>\n",
       "    </tr>\n",
       "    <tr>\n",
       "      <th>8</th>\n",
       "      <td>Gita</td>\n",
       "      <td>Perempuan</td>\n",
       "      <td>63</td>\n",
       "    </tr>\n",
       "    <tr>\n",
       "      <th>9</th>\n",
       "      <td>Hafidz</td>\n",
       "      <td>Laki-laki</td>\n",
       "      <td>75</td>\n",
       "    </tr>\n",
       "    <tr>\n",
       "      <th>10</th>\n",
       "      <td>Maya</td>\n",
       "      <td>Perempuan</td>\n",
       "      <td>69</td>\n",
       "    </tr>\n",
       "    <tr>\n",
       "      <th>11</th>\n",
       "      <td>Lukman</td>\n",
       "      <td>Laki-laki</td>\n",
       "      <td>75</td>\n",
       "    </tr>\n",
       "    <tr>\n",
       "      <th>12</th>\n",
       "      <td>April</td>\n",
       "      <td>Perempuan</td>\n",
       "      <td>90</td>\n",
       "    </tr>\n",
       "    <tr>\n",
       "      <th>13</th>\n",
       "      <td>Eka</td>\n",
       "      <td>Perempuan</td>\n",
       "      <td>84</td>\n",
       "    </tr>\n",
       "    <tr>\n",
       "      <th>14</th>\n",
       "      <td>Wati</td>\n",
       "      <td>Perempuan</td>\n",
       "      <td>76</td>\n",
       "    </tr>\n",
       "  </tbody>\n",
       "</table>\n",
       "</div>"
      ],
      "text/plain": [
       "      Nama    Kelamin  Nilai\n",
       "0     Andi  Laki-laki     80\n",
       "1      Iva  Perempuan     74\n",
       "2    Ihsan  Laki-laki     75\n",
       "3     Dewi  Perempuan     76\n",
       "4   Kurnia  Perempuan     39\n",
       "5      Eko  Laki-laki     65\n",
       "6     Tika  Perempuan     73\n",
       "7    Fitri  Perempuan     60\n",
       "8     Gita  Perempuan     63\n",
       "9   Hafidz  Laki-laki     75\n",
       "10    Maya  Perempuan     69\n",
       "11  Lukman  Laki-laki     75\n",
       "12   April  Perempuan     90\n",
       "13     Eka  Perempuan     84\n",
       "14    Wati  Perempuan     76"
      ]
     },
     "execution_count": 82,
     "metadata": {},
     "output_type": "execute_result"
    }
   ],
   "source": [
    "# drop columns\n",
    "data_gabung.drop('Nama Siswa', axis=1)"
   ]
  }
 ],
 "metadata": {
  "kernelspec": {
   "display_name": "Python 3",
   "language": "python",
   "name": "python3"
  },
  "language_info": {
   "codemirror_mode": {
    "name": "ipython",
    "version": 3
   },
   "file_extension": ".py",
   "mimetype": "text/x-python",
   "name": "python",
   "nbconvert_exporter": "python",
   "pygments_lexer": "ipython3",
   "version": "3.7.1"
  },
  "toc": {
   "base_numbering": 1,
   "nav_menu": {},
   "number_sections": true,
   "sideBar": true,
   "skip_h1_title": false,
   "title_cell": "Table of Contents",
   "title_sidebar": "Contents",
   "toc_cell": false,
   "toc_position": {},
   "toc_section_display": true,
   "toc_window_display": false
  },
  "varInspector": {
   "cols": {
    "lenName": 16,
    "lenType": 16,
    "lenVar": 40
   },
   "kernels_config": {
    "python": {
     "delete_cmd_postfix": "",
     "delete_cmd_prefix": "del ",
     "library": "var_list.py",
     "varRefreshCmd": "print(var_dic_list())"
    },
    "r": {
     "delete_cmd_postfix": ") ",
     "delete_cmd_prefix": "rm(",
     "library": "var_list.r",
     "varRefreshCmd": "cat(var_dic_list()) "
    }
   },
   "types_to_exclude": [
    "module",
    "function",
    "builtin_function_or_method",
    "instance",
    "_Feature"
   ],
   "window_display": false
  }
 },
 "nbformat": 4,
 "nbformat_minor": 2
}
