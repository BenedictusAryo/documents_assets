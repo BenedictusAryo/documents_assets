{
 "cells": [
  {
   "cell_type": "markdown",
   "metadata": {},
   "source": [
    "# Pandas"
   ]
  },
  {
   "cell_type": "markdown",
   "metadata": {},
   "source": [
    "Pandas merupakan sebuah package sebagai alat analisis dan struktur untuk bahasa pemrograman python. Dengan menggunakan pandas kita dapat mengolah data dengan mudah, salah satu fiturnya adalah dataframe. Dengan fitur dataframe kita dapat membaca sebuah file dan menjadikan tabel. Selain itu, salah satu kegunaan pandas yaitu dapat membaca file dengan bentuk .txt,.csv, .xlsx, dll. "
   ]
  },
  {
   "cell_type": "markdown",
   "metadata": {},
   "source": [
    "Pertama, panggil package pandas sebagai berikut"
   ]
  },
  {
   "cell_type": "code",
   "execution_count": 1,
   "metadata": {},
   "outputs": [],
   "source": [
    "import pandas as pd"
   ]
  },
  {
   "cell_type": "markdown",
   "metadata": {},
   "source": [
    "Inputkan data_nilai_matematika dalam bentuk excel"
   ]
  },
  {
   "cell_type": "code",
   "execution_count": 2,
   "metadata": {},
   "outputs": [],
   "source": [
    "data = pd.read_excel('data/data_nilai_matematika.xlsx')"
   ]
  },
  {
   "cell_type": "markdown",
   "metadata": {},
   "source": [
    "Cetak data dengan menggunakan perintah print"
   ]
  },
  {
   "cell_type": "code",
   "execution_count": 3,
   "metadata": {},
   "outputs": [
    {
     "name": "stdout",
     "output_type": "stream",
     "text": [
      "      Nama    Kelamin  Nilai\n",
      "0     Andi  Laki-laki     80\n",
      "1      Iva  Perempuan     74\n",
      "2    Ihsan  Laki-laki     75\n",
      "3     Dewi  Perempuan     76\n",
      "4   Kurnia  Perempuan     39\n",
      "5      Eko  Laki-laki     65\n",
      "6     Tika  Perempuan     73\n",
      "7    Fitri  Perempuan     60\n",
      "8     Gita  Perempuan     63\n",
      "9   Hafidz  Laki-laki     75\n",
      "10    Maya  Perempuan     69\n",
      "11  Lukman  Laki-laki     75\n",
      "12   April  Perempuan     90\n",
      "13     Eka  Perempuan     84\n",
      "14    Wati  Perempuan     76\n"
     ]
    }
   ],
   "source": [
    "print(data)"
   ]
  },
  {
   "cell_type": "markdown",
   "metadata": {},
   "source": [
    "Dari data diatas diketahui bahwa data terdiri dari tiga variabel yaitu Nama, Kelamin dan NIlai. "
   ]
  },
  {
   "cell_type": "markdown",
   "metadata": {},
   "source": [
    "Menampilkan 5 data pertama "
   ]
  },
  {
   "cell_type": "code",
   "execution_count": 4,
   "metadata": {},
   "outputs": [
    {
     "name": "stdout",
     "output_type": "stream",
     "text": [
      "     Nama    Kelamin  Nilai\n",
      "0    Andi  Laki-laki     80\n",
      "1     Iva  Perempuan     74\n",
      "2   Ihsan  Laki-laki     75\n",
      "3    Dewi  Perempuan     76\n",
      "4  Kurnia  Perempuan     39\n"
     ]
    }
   ],
   "source": [
    "print(data.head())"
   ]
  },
  {
   "cell_type": "markdown",
   "metadata": {},
   "source": [
    "Menampilkan 2 data pertama"
   ]
  },
  {
   "cell_type": "code",
   "execution_count": 5,
   "metadata": {},
   "outputs": [
    {
     "name": "stdout",
     "output_type": "stream",
     "text": [
      "   Nama    Kelamin  Nilai\n",
      "0  Andi  Laki-laki     80\n",
      "1   Iva  Perempuan     74\n"
     ]
    }
   ],
   "source": [
    "print(data.head(2))"
   ]
  },
  {
   "cell_type": "markdown",
   "metadata": {},
   "source": [
    "Menampilkan data ke-3 sampai ke-8"
   ]
  },
  {
   "cell_type": "code",
   "execution_count": 6,
   "metadata": {},
   "outputs": [
    {
     "name": "stdout",
     "output_type": "stream",
     "text": [
      "     Nama    Kelamin  Nilai\n",
      "3    Dewi  Perempuan     76\n",
      "4  Kurnia  Perempuan     39\n",
      "5     Eko  Laki-laki     65\n",
      "6    Tika  Perempuan     73\n",
      "7   Fitri  Perempuan     60\n",
      "8    Gita  Perempuan     63\n"
     ]
    }
   ],
   "source": [
    "print(data[3:9])"
   ]
  },
  {
   "cell_type": "markdown",
   "metadata": {},
   "source": [
    "Melihat info data"
   ]
  },
  {
   "cell_type": "code",
   "execution_count": 7,
   "metadata": {},
   "outputs": [
    {
     "name": "stdout",
     "output_type": "stream",
     "text": [
      "<class 'pandas.core.frame.DataFrame'>\n",
      "RangeIndex: 15 entries, 0 to 14\n",
      "Data columns (total 3 columns):\n",
      "Nama       15 non-null object\n",
      "Kelamin    15 non-null object\n",
      "Nilai      15 non-null int64\n",
      "dtypes: int64(1), object(2)\n",
      "memory usage: 440.0+ bytes\n",
      "None\n"
     ]
    }
   ],
   "source": [
    "print(data.info())"
   ]
  },
  {
   "cell_type": "markdown",
   "metadata": {},
   "source": [
    "Dari output diatas didapatkan jumlah baris data sebanyak 15 dengan variabel Nama, Kelamin dan Nilai juga sebnayak 15. Variabel Nama dan Kelamin bertipe data objek dan Nilai bertipe data integer. "
   ]
  },
  {
   "cell_type": "markdown",
   "metadata": {},
   "source": [
    "Baik, sebelumnya kita akan membahas tipe data yang sering digunakan\n",
    "- Objek : Tipe data huruf, simbol,dll\n",
    "- Integer : Tipe data untuk data numerik bilangan bulat\n",
    "- Float : Tipe data untuk data numerik bilangan pecahan dan bisa juga bilangan bulat (biasanya untuk data pengukuran)\n",
    "- Boolean : Tipe data dengan keluaran True atau False"
   ]
  },
  {
   "cell_type": "markdown",
   "metadata": {},
   "source": [
    "Melihat deskripsi data"
   ]
  },
  {
   "cell_type": "code",
   "execution_count": 8,
   "metadata": {},
   "outputs": [
    {
     "name": "stdout",
     "output_type": "stream",
     "text": [
      "           Nilai\n",
      "count  15.000000\n",
      "mean   71.600000\n",
      "std    11.849051\n",
      "min    39.000000\n",
      "25%    67.000000\n",
      "50%    75.000000\n",
      "75%    76.000000\n",
      "max    90.000000\n"
     ]
    }
   ],
   "source": [
    "print(data.describe())"
   ]
  },
  {
   "cell_type": "markdown",
   "metadata": {},
   "source": [
    "Dari output diatas merupakan deskripsi data dengan jumlah variabel Nilai sebanyak 15 data, rata-rata (mean) sebesar 71.6, standar deviasi (std) sebesar 11.84, nilai terkecil (min) sebesar 39, quartil pertama (25%) sebesar 67, quartil kedua atau median (50%) sebesar 75, quartil ketiga (75%) sebesar 76 dan nilai tertinggi (max) sebesar 90. "
   ]
  },
  {
   "cell_type": "markdown",
   "metadata": {},
   "source": [
    "Mengurutkan data sesuai variabel \"Nama\""
   ]
  },
  {
   "cell_type": "code",
   "execution_count": 9,
   "metadata": {},
   "outputs": [
    {
     "data": {
      "text/html": [
       "<div>\n",
       "<style scoped>\n",
       "    .dataframe tbody tr th:only-of-type {\n",
       "        vertical-align: middle;\n",
       "    }\n",
       "\n",
       "    .dataframe tbody tr th {\n",
       "        vertical-align: top;\n",
       "    }\n",
       "\n",
       "    .dataframe thead th {\n",
       "        text-align: right;\n",
       "    }\n",
       "</style>\n",
       "<table border=\"1\" class=\"dataframe\">\n",
       "  <thead>\n",
       "    <tr style=\"text-align: right;\">\n",
       "      <th></th>\n",
       "      <th>Nama</th>\n",
       "      <th>Kelamin</th>\n",
       "      <th>Nilai</th>\n",
       "    </tr>\n",
       "  </thead>\n",
       "  <tbody>\n",
       "    <tr>\n",
       "      <th>0</th>\n",
       "      <td>Andi</td>\n",
       "      <td>Laki-laki</td>\n",
       "      <td>80</td>\n",
       "    </tr>\n",
       "    <tr>\n",
       "      <th>12</th>\n",
       "      <td>April</td>\n",
       "      <td>Perempuan</td>\n",
       "      <td>90</td>\n",
       "    </tr>\n",
       "    <tr>\n",
       "      <th>3</th>\n",
       "      <td>Dewi</td>\n",
       "      <td>Perempuan</td>\n",
       "      <td>76</td>\n",
       "    </tr>\n",
       "    <tr>\n",
       "      <th>13</th>\n",
       "      <td>Eka</td>\n",
       "      <td>Perempuan</td>\n",
       "      <td>84</td>\n",
       "    </tr>\n",
       "    <tr>\n",
       "      <th>5</th>\n",
       "      <td>Eko</td>\n",
       "      <td>Laki-laki</td>\n",
       "      <td>65</td>\n",
       "    </tr>\n",
       "    <tr>\n",
       "      <th>7</th>\n",
       "      <td>Fitri</td>\n",
       "      <td>Perempuan</td>\n",
       "      <td>60</td>\n",
       "    </tr>\n",
       "    <tr>\n",
       "      <th>8</th>\n",
       "      <td>Gita</td>\n",
       "      <td>Perempuan</td>\n",
       "      <td>63</td>\n",
       "    </tr>\n",
       "    <tr>\n",
       "      <th>9</th>\n",
       "      <td>Hafidz</td>\n",
       "      <td>Laki-laki</td>\n",
       "      <td>75</td>\n",
       "    </tr>\n",
       "    <tr>\n",
       "      <th>2</th>\n",
       "      <td>Ihsan</td>\n",
       "      <td>Laki-laki</td>\n",
       "      <td>75</td>\n",
       "    </tr>\n",
       "    <tr>\n",
       "      <th>1</th>\n",
       "      <td>Iva</td>\n",
       "      <td>Perempuan</td>\n",
       "      <td>74</td>\n",
       "    </tr>\n",
       "    <tr>\n",
       "      <th>4</th>\n",
       "      <td>Kurnia</td>\n",
       "      <td>Perempuan</td>\n",
       "      <td>39</td>\n",
       "    </tr>\n",
       "    <tr>\n",
       "      <th>11</th>\n",
       "      <td>Lukman</td>\n",
       "      <td>Laki-laki</td>\n",
       "      <td>75</td>\n",
       "    </tr>\n",
       "    <tr>\n",
       "      <th>10</th>\n",
       "      <td>Maya</td>\n",
       "      <td>Perempuan</td>\n",
       "      <td>69</td>\n",
       "    </tr>\n",
       "    <tr>\n",
       "      <th>6</th>\n",
       "      <td>Tika</td>\n",
       "      <td>Perempuan</td>\n",
       "      <td>73</td>\n",
       "    </tr>\n",
       "    <tr>\n",
       "      <th>14</th>\n",
       "      <td>Wati</td>\n",
       "      <td>Perempuan</td>\n",
       "      <td>76</td>\n",
       "    </tr>\n",
       "  </tbody>\n",
       "</table>\n",
       "</div>"
      ],
      "text/plain": [
       "      Nama    Kelamin  Nilai\n",
       "0     Andi  Laki-laki     80\n",
       "12   April  Perempuan     90\n",
       "3     Dewi  Perempuan     76\n",
       "13     Eka  Perempuan     84\n",
       "5      Eko  Laki-laki     65\n",
       "7    Fitri  Perempuan     60\n",
       "8     Gita  Perempuan     63\n",
       "9   Hafidz  Laki-laki     75\n",
       "2    Ihsan  Laki-laki     75\n",
       "1      Iva  Perempuan     74\n",
       "4   Kurnia  Perempuan     39\n",
       "11  Lukman  Laki-laki     75\n",
       "10    Maya  Perempuan     69\n",
       "6     Tika  Perempuan     73\n",
       "14    Wati  Perempuan     76"
      ]
     },
     "execution_count": 9,
     "metadata": {},
     "output_type": "execute_result"
    }
   ],
   "source": [
    "data = data.sort_values('Nama')\n",
    "data"
   ]
  },
  {
   "cell_type": "markdown",
   "metadata": {},
   "source": [
    "Dapat dilihat dari tabel diatas bahwa data terurut sesuai dengan variabel \"Nama\" yang diurutkan dari abjad A-Z. Variabel \"Kelamin\" dan \"Nilai\" akan menyesuaikan pengurutannya. "
   ]
  },
  {
   "cell_type": "markdown",
   "metadata": {},
   "source": [
    "Mengurutkan nomor data yang telah di urutkan sesuai \"Name\" sebelumnya "
   ]
  },
  {
   "cell_type": "code",
   "execution_count": 10,
   "metadata": {},
   "outputs": [
    {
     "name": "stdout",
     "output_type": "stream",
     "text": [
      "      Nama    Kelamin  Nilai\n",
      "0     Andi  Laki-laki     80\n",
      "1    April  Perempuan     90\n",
      "2     Dewi  Perempuan     76\n",
      "3      Eka  Perempuan     84\n",
      "4      Eko  Laki-laki     65\n",
      "5    Fitri  Perempuan     60\n",
      "6     Gita  Perempuan     63\n",
      "7   Hafidz  Laki-laki     75\n",
      "8    Ihsan  Laki-laki     75\n",
      "9      Iva  Perempuan     74\n",
      "10  Kurnia  Perempuan     39\n",
      "11  Lukman  Laki-laki     75\n",
      "12    Maya  Perempuan     69\n",
      "13    Tika  Perempuan     73\n",
      "14    Wati  Perempuan     76\n"
     ]
    }
   ],
   "source": [
    "data = data.reset_index(drop=True)\n",
    "print(data)"
   ]
  },
  {
   "cell_type": "markdown",
   "metadata": {},
   "source": [
    "Dari output diatas dapat dilihat nomor data telah terurut dari 0 dan seterusnya. "
   ]
  },
  {
   "cell_type": "markdown",
   "metadata": {},
   "source": [
    "Mari kita mencoba untuk mengurutkan data menurut nilai dari tertinggi sampai yang terendah"
   ]
  },
  {
   "cell_type": "code",
   "execution_count": 11,
   "metadata": {},
   "outputs": [
    {
     "name": "stdout",
     "output_type": "stream",
     "text": [
      "      Nama    Kelamin  Nilai\n",
      "0    April  Perempuan     90\n",
      "1      Eka  Perempuan     84\n",
      "2     Andi  Laki-laki     80\n",
      "3     Dewi  Perempuan     76\n",
      "4     Wati  Perempuan     76\n",
      "5   Hafidz  Laki-laki     75\n",
      "6    Ihsan  Laki-laki     75\n",
      "7   Lukman  Laki-laki     75\n",
      "8      Iva  Perempuan     74\n",
      "9     Tika  Perempuan     73\n",
      "10    Maya  Perempuan     69\n",
      "11     Eko  Laki-laki     65\n",
      "12    Gita  Perempuan     63\n",
      "13   Fitri  Perempuan     60\n",
      "14  Kurnia  Perempuan     39\n"
     ]
    }
   ],
   "source": [
    "data = data.sort_values(\"Nilai\", ascending=False)\n",
    "data = data.reset_index(drop=True)\n",
    "print(data)"
   ]
  },
  {
   "cell_type": "markdown",
   "metadata": {},
   "source": [
    "Dari ouput diatas diketahui bahwa nilai tertinggi April (Perempuan) dengan nilai 90, disusul dengan Eka (Perempuan) dengan nilai 84, kemudian diposisi tiga disusul oleh Andi (Laki-laki) dengan nilai 80 dan seterusnya dapat dilihat dari output diatas. "
   ]
  },
  {
   "cell_type": "markdown",
   "metadata": {},
   "source": [
    "##### Memfilter baris dan membuat kolom"
   ]
  },
  {
   "cell_type": "markdown",
   "metadata": {},
   "source": [
    "Menampilkan data dengan 1 kolom. Dalam hal ini hanya menampilkan data variabel \"Nama\""
   ]
  },
  {
   "cell_type": "code",
   "execution_count": 12,
   "metadata": {
    "scrolled": true
   },
   "outputs": [
    {
     "data": {
      "text/plain": [
       "0      April\n",
       "1        Eka\n",
       "2       Andi\n",
       "3       Dewi\n",
       "4       Wati\n",
       "5     Hafidz\n",
       "6      Ihsan\n",
       "7     Lukman\n",
       "8        Iva\n",
       "9       Tika\n",
       "10      Maya\n",
       "11       Eko\n",
       "12      Gita\n",
       "13     Fitri\n",
       "14    Kurnia\n",
       "Name: Nama, dtype: object"
      ]
     },
     "execution_count": 12,
     "metadata": {},
     "output_type": "execute_result"
    }
   ],
   "source": [
    "data['Nama']"
   ]
  },
  {
   "cell_type": "markdown",
   "metadata": {},
   "source": [
    "Sebelum kita melanjutkan pembahasan selanjutnya, mari kita bahas Operator penghubung terlebih dahulu."
   ]
  },
  {
   "cell_type": "markdown",
   "metadata": {},
   "source": [
    "Operator penghubung \n",
    "- $==$ (sama dengan)\n",
    "- $!=$ (tidak sama dengan)\n",
    "- $<$ (kurang dari)\n",
    "- $>$ (lebih besar dari)\n",
    "- $<=$ (kurang dari atau sama dengan)\n",
    "- $>=$ (lebih besar atau sama dengan)"
   ]
  },
  {
   "cell_type": "markdown",
   "metadata": {},
   "source": [
    "Mencari data dari variabel \"Nama\" dengan nama \"Iva\""
   ]
  },
  {
   "cell_type": "code",
   "execution_count": 13,
   "metadata": {},
   "outputs": [
    {
     "data": {
      "text/plain": [
       "0     False\n",
       "1     False\n",
       "2     False\n",
       "3     False\n",
       "4     False\n",
       "5     False\n",
       "6     False\n",
       "7     False\n",
       "8      True\n",
       "9     False\n",
       "10    False\n",
       "11    False\n",
       "12    False\n",
       "13    False\n",
       "14    False\n",
       "Name: Nama, dtype: bool"
      ]
     },
     "execution_count": 13,
     "metadata": {},
     "output_type": "execute_result"
    }
   ],
   "source": [
    "data['Nama'] == \"Iva\""
   ]
  },
  {
   "cell_type": "markdown",
   "metadata": {},
   "source": [
    "Dari output diatas akan menampilkan data dengan tipe data boolean. Perlu diketahui bahwa tipe data boolean merupakan tipe data dengan keluaran True atau False. Dari data diatas data dengan Nama Iva terdapat pada data baris ke-8 (ditunjukkan dengan \"True\") sedangkan data lainnya False (data bukan dengan Nama Iva). "
   ]
  },
  {
   "cell_type": "markdown",
   "metadata": {},
   "source": [
    "Selanjutnya, mari kita coba filtering data"
   ]
  },
  {
   "cell_type": "code",
   "execution_count": 14,
   "metadata": {},
   "outputs": [
    {
     "data": {
      "text/html": [
       "<div>\n",
       "<style scoped>\n",
       "    .dataframe tbody tr th:only-of-type {\n",
       "        vertical-align: middle;\n",
       "    }\n",
       "\n",
       "    .dataframe tbody tr th {\n",
       "        vertical-align: top;\n",
       "    }\n",
       "\n",
       "    .dataframe thead th {\n",
       "        text-align: right;\n",
       "    }\n",
       "</style>\n",
       "<table border=\"1\" class=\"dataframe\">\n",
       "  <thead>\n",
       "    <tr style=\"text-align: right;\">\n",
       "      <th></th>\n",
       "      <th>Nama</th>\n",
       "      <th>Kelamin</th>\n",
       "      <th>Nilai</th>\n",
       "    </tr>\n",
       "  </thead>\n",
       "  <tbody>\n",
       "    <tr>\n",
       "      <th>12</th>\n",
       "      <td>Gita</td>\n",
       "      <td>Perempuan</td>\n",
       "      <td>63</td>\n",
       "    </tr>\n",
       "  </tbody>\n",
       "</table>\n",
       "</div>"
      ],
      "text/plain": [
       "    Nama    Kelamin  Nilai\n",
       "12  Gita  Perempuan     63"
      ]
     },
     "execution_count": 14,
     "metadata": {},
     "output_type": "execute_result"
    }
   ],
   "source": [
    "data[data['Nama']==\"Gita\"]"
   ]
  },
  {
   "cell_type": "markdown",
   "metadata": {},
   "source": [
    "Perintah diatas ingin mengetahui data dengan Nama Gita. Didapatkan Gita berjenis kelamin perempuan dan Nilainya yaitu 63. "
   ]
  },
  {
   "cell_type": "markdown",
   "metadata": {},
   "source": [
    "Menampilkan data dengan Nilai kurang dari 80. "
   ]
  },
  {
   "cell_type": "code",
   "execution_count": 15,
   "metadata": {},
   "outputs": [
    {
     "data": {
      "text/html": [
       "<div>\n",
       "<style scoped>\n",
       "    .dataframe tbody tr th:only-of-type {\n",
       "        vertical-align: middle;\n",
       "    }\n",
       "\n",
       "    .dataframe tbody tr th {\n",
       "        vertical-align: top;\n",
       "    }\n",
       "\n",
       "    .dataframe thead th {\n",
       "        text-align: right;\n",
       "    }\n",
       "</style>\n",
       "<table border=\"1\" class=\"dataframe\">\n",
       "  <thead>\n",
       "    <tr style=\"text-align: right;\">\n",
       "      <th></th>\n",
       "      <th>Nama</th>\n",
       "      <th>Kelamin</th>\n",
       "      <th>Nilai</th>\n",
       "    </tr>\n",
       "  </thead>\n",
       "  <tbody>\n",
       "    <tr>\n",
       "      <th>3</th>\n",
       "      <td>Dewi</td>\n",
       "      <td>Perempuan</td>\n",
       "      <td>76</td>\n",
       "    </tr>\n",
       "    <tr>\n",
       "      <th>4</th>\n",
       "      <td>Wati</td>\n",
       "      <td>Perempuan</td>\n",
       "      <td>76</td>\n",
       "    </tr>\n",
       "    <tr>\n",
       "      <th>5</th>\n",
       "      <td>Hafidz</td>\n",
       "      <td>Laki-laki</td>\n",
       "      <td>75</td>\n",
       "    </tr>\n",
       "    <tr>\n",
       "      <th>6</th>\n",
       "      <td>Ihsan</td>\n",
       "      <td>Laki-laki</td>\n",
       "      <td>75</td>\n",
       "    </tr>\n",
       "    <tr>\n",
       "      <th>7</th>\n",
       "      <td>Lukman</td>\n",
       "      <td>Laki-laki</td>\n",
       "      <td>75</td>\n",
       "    </tr>\n",
       "    <tr>\n",
       "      <th>8</th>\n",
       "      <td>Iva</td>\n",
       "      <td>Perempuan</td>\n",
       "      <td>74</td>\n",
       "    </tr>\n",
       "    <tr>\n",
       "      <th>9</th>\n",
       "      <td>Tika</td>\n",
       "      <td>Perempuan</td>\n",
       "      <td>73</td>\n",
       "    </tr>\n",
       "    <tr>\n",
       "      <th>10</th>\n",
       "      <td>Maya</td>\n",
       "      <td>Perempuan</td>\n",
       "      <td>69</td>\n",
       "    </tr>\n",
       "    <tr>\n",
       "      <th>11</th>\n",
       "      <td>Eko</td>\n",
       "      <td>Laki-laki</td>\n",
       "      <td>65</td>\n",
       "    </tr>\n",
       "    <tr>\n",
       "      <th>12</th>\n",
       "      <td>Gita</td>\n",
       "      <td>Perempuan</td>\n",
       "      <td>63</td>\n",
       "    </tr>\n",
       "    <tr>\n",
       "      <th>13</th>\n",
       "      <td>Fitri</td>\n",
       "      <td>Perempuan</td>\n",
       "      <td>60</td>\n",
       "    </tr>\n",
       "    <tr>\n",
       "      <th>14</th>\n",
       "      <td>Kurnia</td>\n",
       "      <td>Perempuan</td>\n",
       "      <td>39</td>\n",
       "    </tr>\n",
       "  </tbody>\n",
       "</table>\n",
       "</div>"
      ],
      "text/plain": [
       "      Nama    Kelamin  Nilai\n",
       "3     Dewi  Perempuan     76\n",
       "4     Wati  Perempuan     76\n",
       "5   Hafidz  Laki-laki     75\n",
       "6    Ihsan  Laki-laki     75\n",
       "7   Lukman  Laki-laki     75\n",
       "8      Iva  Perempuan     74\n",
       "9     Tika  Perempuan     73\n",
       "10    Maya  Perempuan     69\n",
       "11     Eko  Laki-laki     65\n",
       "12    Gita  Perempuan     63\n",
       "13   Fitri  Perempuan     60\n",
       "14  Kurnia  Perempuan     39"
      ]
     },
     "execution_count": 15,
     "metadata": {},
     "output_type": "execute_result"
    }
   ],
   "source": [
    "data[data['Nilai']<80]"
   ]
  },
  {
   "cell_type": "markdown",
   "metadata": {},
   "source": [
    "Untuk memudahkan jumlah data dengan Nilai kurang dari 80. Mari kita mengubah nomor baris data "
   ]
  },
  {
   "cell_type": "code",
   "execution_count": 16,
   "metadata": {},
   "outputs": [
    {
     "data": {
      "text/html": [
       "<div>\n",
       "<style scoped>\n",
       "    .dataframe tbody tr th:only-of-type {\n",
       "        vertical-align: middle;\n",
       "    }\n",
       "\n",
       "    .dataframe tbody tr th {\n",
       "        vertical-align: top;\n",
       "    }\n",
       "\n",
       "    .dataframe thead th {\n",
       "        text-align: right;\n",
       "    }\n",
       "</style>\n",
       "<table border=\"1\" class=\"dataframe\">\n",
       "  <thead>\n",
       "    <tr style=\"text-align: right;\">\n",
       "      <th></th>\n",
       "      <th>Nama</th>\n",
       "      <th>Kelamin</th>\n",
       "      <th>Nilai</th>\n",
       "    </tr>\n",
       "  </thead>\n",
       "  <tbody>\n",
       "    <tr>\n",
       "      <th>0</th>\n",
       "      <td>Dewi</td>\n",
       "      <td>Perempuan</td>\n",
       "      <td>76</td>\n",
       "    </tr>\n",
       "    <tr>\n",
       "      <th>1</th>\n",
       "      <td>Wati</td>\n",
       "      <td>Perempuan</td>\n",
       "      <td>76</td>\n",
       "    </tr>\n",
       "    <tr>\n",
       "      <th>2</th>\n",
       "      <td>Hafidz</td>\n",
       "      <td>Laki-laki</td>\n",
       "      <td>75</td>\n",
       "    </tr>\n",
       "    <tr>\n",
       "      <th>3</th>\n",
       "      <td>Ihsan</td>\n",
       "      <td>Laki-laki</td>\n",
       "      <td>75</td>\n",
       "    </tr>\n",
       "    <tr>\n",
       "      <th>4</th>\n",
       "      <td>Lukman</td>\n",
       "      <td>Laki-laki</td>\n",
       "      <td>75</td>\n",
       "    </tr>\n",
       "    <tr>\n",
       "      <th>5</th>\n",
       "      <td>Iva</td>\n",
       "      <td>Perempuan</td>\n",
       "      <td>74</td>\n",
       "    </tr>\n",
       "    <tr>\n",
       "      <th>6</th>\n",
       "      <td>Tika</td>\n",
       "      <td>Perempuan</td>\n",
       "      <td>73</td>\n",
       "    </tr>\n",
       "    <tr>\n",
       "      <th>7</th>\n",
       "      <td>Maya</td>\n",
       "      <td>Perempuan</td>\n",
       "      <td>69</td>\n",
       "    </tr>\n",
       "    <tr>\n",
       "      <th>8</th>\n",
       "      <td>Eko</td>\n",
       "      <td>Laki-laki</td>\n",
       "      <td>65</td>\n",
       "    </tr>\n",
       "    <tr>\n",
       "      <th>9</th>\n",
       "      <td>Gita</td>\n",
       "      <td>Perempuan</td>\n",
       "      <td>63</td>\n",
       "    </tr>\n",
       "    <tr>\n",
       "      <th>10</th>\n",
       "      <td>Fitri</td>\n",
       "      <td>Perempuan</td>\n",
       "      <td>60</td>\n",
       "    </tr>\n",
       "    <tr>\n",
       "      <th>11</th>\n",
       "      <td>Kurnia</td>\n",
       "      <td>Perempuan</td>\n",
       "      <td>39</td>\n",
       "    </tr>\n",
       "  </tbody>\n",
       "</table>\n",
       "</div>"
      ],
      "text/plain": [
       "      Nama    Kelamin  Nilai\n",
       "0     Dewi  Perempuan     76\n",
       "1     Wati  Perempuan     76\n",
       "2   Hafidz  Laki-laki     75\n",
       "3    Ihsan  Laki-laki     75\n",
       "4   Lukman  Laki-laki     75\n",
       "5      Iva  Perempuan     74\n",
       "6     Tika  Perempuan     73\n",
       "7     Maya  Perempuan     69\n",
       "8      Eko  Laki-laki     65\n",
       "9     Gita  Perempuan     63\n",
       "10   Fitri  Perempuan     60\n",
       "11  Kurnia  Perempuan     39"
      ]
     },
     "execution_count": 16,
     "metadata": {},
     "output_type": "execute_result"
    }
   ],
   "source": [
    "data[data['Nilai']<80].reset_index(drop=True)"
   ]
  },
  {
   "cell_type": "markdown",
   "metadata": {},
   "source": [
    "Pengurutan nomor data dengan menggunakan reset_index. Didapatkan Nilai kurang dari 80 sebanyak 12 orang. "
   ]
  },
  {
   "cell_type": "markdown",
   "metadata": {},
   "source": [
    "##### Membuat kolom baru"
   ]
  },
  {
   "cell_type": "markdown",
   "metadata": {},
   "source": [
    "Operator Matematika\n",
    "- $+$ (Tambah)\n",
    "- $-$ (Kurang)\n",
    "- $*$ (Kali)\n",
    "- $/$ (Bagi)"
   ]
  },
  {
   "cell_type": "markdown",
   "metadata": {},
   "source": [
    "Menambah kolom baru dengan nama \"Nilai_akhir\" dari variabel \"Nilai\" + 10"
   ]
  },
  {
   "cell_type": "code",
   "execution_count": 17,
   "metadata": {},
   "outputs": [],
   "source": [
    "data['Nilai_akhir'] = data['Nilai']+10"
   ]
  },
  {
   "cell_type": "code",
   "execution_count": 18,
   "metadata": {},
   "outputs": [
    {
     "data": {
      "text/html": [
       "<div>\n",
       "<style scoped>\n",
       "    .dataframe tbody tr th:only-of-type {\n",
       "        vertical-align: middle;\n",
       "    }\n",
       "\n",
       "    .dataframe tbody tr th {\n",
       "        vertical-align: top;\n",
       "    }\n",
       "\n",
       "    .dataframe thead th {\n",
       "        text-align: right;\n",
       "    }\n",
       "</style>\n",
       "<table border=\"1\" class=\"dataframe\">\n",
       "  <thead>\n",
       "    <tr style=\"text-align: right;\">\n",
       "      <th></th>\n",
       "      <th>Nama</th>\n",
       "      <th>Kelamin</th>\n",
       "      <th>Nilai</th>\n",
       "      <th>Nilai_akhir</th>\n",
       "    </tr>\n",
       "  </thead>\n",
       "  <tbody>\n",
       "    <tr>\n",
       "      <th>0</th>\n",
       "      <td>April</td>\n",
       "      <td>Perempuan</td>\n",
       "      <td>90</td>\n",
       "      <td>100</td>\n",
       "    </tr>\n",
       "    <tr>\n",
       "      <th>1</th>\n",
       "      <td>Eka</td>\n",
       "      <td>Perempuan</td>\n",
       "      <td>84</td>\n",
       "      <td>94</td>\n",
       "    </tr>\n",
       "    <tr>\n",
       "      <th>2</th>\n",
       "      <td>Andi</td>\n",
       "      <td>Laki-laki</td>\n",
       "      <td>80</td>\n",
       "      <td>90</td>\n",
       "    </tr>\n",
       "    <tr>\n",
       "      <th>3</th>\n",
       "      <td>Dewi</td>\n",
       "      <td>Perempuan</td>\n",
       "      <td>76</td>\n",
       "      <td>86</td>\n",
       "    </tr>\n",
       "    <tr>\n",
       "      <th>4</th>\n",
       "      <td>Wati</td>\n",
       "      <td>Perempuan</td>\n",
       "      <td>76</td>\n",
       "      <td>86</td>\n",
       "    </tr>\n",
       "    <tr>\n",
       "      <th>5</th>\n",
       "      <td>Hafidz</td>\n",
       "      <td>Laki-laki</td>\n",
       "      <td>75</td>\n",
       "      <td>85</td>\n",
       "    </tr>\n",
       "    <tr>\n",
       "      <th>6</th>\n",
       "      <td>Ihsan</td>\n",
       "      <td>Laki-laki</td>\n",
       "      <td>75</td>\n",
       "      <td>85</td>\n",
       "    </tr>\n",
       "    <tr>\n",
       "      <th>7</th>\n",
       "      <td>Lukman</td>\n",
       "      <td>Laki-laki</td>\n",
       "      <td>75</td>\n",
       "      <td>85</td>\n",
       "    </tr>\n",
       "    <tr>\n",
       "      <th>8</th>\n",
       "      <td>Iva</td>\n",
       "      <td>Perempuan</td>\n",
       "      <td>74</td>\n",
       "      <td>84</td>\n",
       "    </tr>\n",
       "    <tr>\n",
       "      <th>9</th>\n",
       "      <td>Tika</td>\n",
       "      <td>Perempuan</td>\n",
       "      <td>73</td>\n",
       "      <td>83</td>\n",
       "    </tr>\n",
       "    <tr>\n",
       "      <th>10</th>\n",
       "      <td>Maya</td>\n",
       "      <td>Perempuan</td>\n",
       "      <td>69</td>\n",
       "      <td>79</td>\n",
       "    </tr>\n",
       "    <tr>\n",
       "      <th>11</th>\n",
       "      <td>Eko</td>\n",
       "      <td>Laki-laki</td>\n",
       "      <td>65</td>\n",
       "      <td>75</td>\n",
       "    </tr>\n",
       "    <tr>\n",
       "      <th>12</th>\n",
       "      <td>Gita</td>\n",
       "      <td>Perempuan</td>\n",
       "      <td>63</td>\n",
       "      <td>73</td>\n",
       "    </tr>\n",
       "    <tr>\n",
       "      <th>13</th>\n",
       "      <td>Fitri</td>\n",
       "      <td>Perempuan</td>\n",
       "      <td>60</td>\n",
       "      <td>70</td>\n",
       "    </tr>\n",
       "    <tr>\n",
       "      <th>14</th>\n",
       "      <td>Kurnia</td>\n",
       "      <td>Perempuan</td>\n",
       "      <td>39</td>\n",
       "      <td>49</td>\n",
       "    </tr>\n",
       "  </tbody>\n",
       "</table>\n",
       "</div>"
      ],
      "text/plain": [
       "      Nama    Kelamin  Nilai  Nilai_akhir\n",
       "0    April  Perempuan     90          100\n",
       "1      Eka  Perempuan     84           94\n",
       "2     Andi  Laki-laki     80           90\n",
       "3     Dewi  Perempuan     76           86\n",
       "4     Wati  Perempuan     76           86\n",
       "5   Hafidz  Laki-laki     75           85\n",
       "6    Ihsan  Laki-laki     75           85\n",
       "7   Lukman  Laki-laki     75           85\n",
       "8      Iva  Perempuan     74           84\n",
       "9     Tika  Perempuan     73           83\n",
       "10    Maya  Perempuan     69           79\n",
       "11     Eko  Laki-laki     65           75\n",
       "12    Gita  Perempuan     63           73\n",
       "13   Fitri  Perempuan     60           70\n",
       "14  Kurnia  Perempuan     39           49"
      ]
     },
     "execution_count": 18,
     "metadata": {},
     "output_type": "execute_result"
    }
   ],
   "source": [
    "data"
   ]
  },
  {
   "cell_type": "markdown",
   "metadata": {},
   "source": [
    "Dapat dilihat pada kolom terakhir terdapat penambahan kolom dengan nama \"Nilai_akhir\". "
   ]
  },
  {
   "cell_type": "markdown",
   "metadata": {},
   "source": [
    "##### Menambahkan baris data"
   ]
  },
  {
   "cell_type": "markdown",
   "metadata": {},
   "source": [
    "Penginputan data baru seperti syntax berikut"
   ]
  },
  {
   "cell_type": "code",
   "execution_count": 27,
   "metadata": {},
   "outputs": [
    {
     "data": {
      "text/plain": [
       "[{'Nama': 'Didi', 'Kelamin': 'Laki-laki', 'Nilai': 89, 'Nilai_akhir': 99}]"
      ]
     },
     "execution_count": 27,
     "metadata": {},
     "output_type": "execute_result"
    }
   ],
   "source": [
    "data1 = [{'Nama' : \"Didi\", 'Kelamin' : \"Laki-laki\", 'Nilai' : 89, 'Nilai_akhir' : 89+10}]\n",
    "data1"
   ]
  },
  {
   "cell_type": "markdown",
   "metadata": {},
   "source": [
    "Dapat dilihat pada data diatas memiliki informasi Nama Didi, Jenis Kelamin Laki-laki dan Nilai 89, Nilai akhir 89+10."
   ]
  },
  {
   "cell_type": "markdown",
   "metadata": {},
   "source": [
    "Membentuk dataframe"
   ]
  },
  {
   "cell_type": "code",
   "execution_count": 28,
   "metadata": {},
   "outputs": [
    {
     "data": {
      "text/html": [
       "<div>\n",
       "<style scoped>\n",
       "    .dataframe tbody tr th:only-of-type {\n",
       "        vertical-align: middle;\n",
       "    }\n",
       "\n",
       "    .dataframe tbody tr th {\n",
       "        vertical-align: top;\n",
       "    }\n",
       "\n",
       "    .dataframe thead th {\n",
       "        text-align: right;\n",
       "    }\n",
       "</style>\n",
       "<table border=\"1\" class=\"dataframe\">\n",
       "  <thead>\n",
       "    <tr style=\"text-align: right;\">\n",
       "      <th></th>\n",
       "      <th>Kelamin</th>\n",
       "      <th>Nama</th>\n",
       "      <th>Nilai</th>\n",
       "      <th>Nilai_akhir</th>\n",
       "    </tr>\n",
       "  </thead>\n",
       "  <tbody>\n",
       "    <tr>\n",
       "      <th>0</th>\n",
       "      <td>Laki-laki</td>\n",
       "      <td>Didi</td>\n",
       "      <td>89</td>\n",
       "      <td>99</td>\n",
       "    </tr>\n",
       "  </tbody>\n",
       "</table>\n",
       "</div>"
      ],
      "text/plain": [
       "     Kelamin  Nama  Nilai  Nilai_akhir\n",
       "0  Laki-laki  Didi     89           99"
      ]
     },
     "execution_count": 28,
     "metadata": {},
     "output_type": "execute_result"
    }
   ],
   "source": [
    "baru1 = pd.DataFrame(data1)\n",
    "baru1"
   ]
  },
  {
   "cell_type": "markdown",
   "metadata": {},
   "source": [
    "Penggabungkan data awal dengan data baru dengan data.append()"
   ]
  },
  {
   "cell_type": "code",
   "execution_count": 44,
   "metadata": {},
   "outputs": [
    {
     "data": {
      "text/html": [
       "<div>\n",
       "<style scoped>\n",
       "    .dataframe tbody tr th:only-of-type {\n",
       "        vertical-align: middle;\n",
       "    }\n",
       "\n",
       "    .dataframe tbody tr th {\n",
       "        vertical-align: top;\n",
       "    }\n",
       "\n",
       "    .dataframe thead th {\n",
       "        text-align: right;\n",
       "    }\n",
       "</style>\n",
       "<table border=\"1\" class=\"dataframe\">\n",
       "  <thead>\n",
       "    <tr style=\"text-align: right;\">\n",
       "      <th></th>\n",
       "      <th>Kelamin</th>\n",
       "      <th>Nama</th>\n",
       "      <th>Nilai</th>\n",
       "      <th>Nilai_akhir</th>\n",
       "    </tr>\n",
       "  </thead>\n",
       "  <tbody>\n",
       "    <tr>\n",
       "      <th>0</th>\n",
       "      <td>Perempuan</td>\n",
       "      <td>April</td>\n",
       "      <td>90</td>\n",
       "      <td>100</td>\n",
       "    </tr>\n",
       "    <tr>\n",
       "      <th>1</th>\n",
       "      <td>Perempuan</td>\n",
       "      <td>Eka</td>\n",
       "      <td>84</td>\n",
       "      <td>94</td>\n",
       "    </tr>\n",
       "    <tr>\n",
       "      <th>2</th>\n",
       "      <td>Laki-laki</td>\n",
       "      <td>Andi</td>\n",
       "      <td>80</td>\n",
       "      <td>90</td>\n",
       "    </tr>\n",
       "    <tr>\n",
       "      <th>3</th>\n",
       "      <td>Perempuan</td>\n",
       "      <td>Dewi</td>\n",
       "      <td>76</td>\n",
       "      <td>86</td>\n",
       "    </tr>\n",
       "    <tr>\n",
       "      <th>4</th>\n",
       "      <td>Perempuan</td>\n",
       "      <td>Wati</td>\n",
       "      <td>76</td>\n",
       "      <td>86</td>\n",
       "    </tr>\n",
       "    <tr>\n",
       "      <th>5</th>\n",
       "      <td>Laki-laki</td>\n",
       "      <td>Hafidz</td>\n",
       "      <td>75</td>\n",
       "      <td>85</td>\n",
       "    </tr>\n",
       "    <tr>\n",
       "      <th>6</th>\n",
       "      <td>Laki-laki</td>\n",
       "      <td>Ihsan</td>\n",
       "      <td>75</td>\n",
       "      <td>85</td>\n",
       "    </tr>\n",
       "    <tr>\n",
       "      <th>7</th>\n",
       "      <td>Laki-laki</td>\n",
       "      <td>Lukman</td>\n",
       "      <td>75</td>\n",
       "      <td>85</td>\n",
       "    </tr>\n",
       "    <tr>\n",
       "      <th>8</th>\n",
       "      <td>Perempuan</td>\n",
       "      <td>Iva</td>\n",
       "      <td>74</td>\n",
       "      <td>84</td>\n",
       "    </tr>\n",
       "    <tr>\n",
       "      <th>9</th>\n",
       "      <td>Perempuan</td>\n",
       "      <td>Tika</td>\n",
       "      <td>73</td>\n",
       "      <td>83</td>\n",
       "    </tr>\n",
       "    <tr>\n",
       "      <th>10</th>\n",
       "      <td>Perempuan</td>\n",
       "      <td>Maya</td>\n",
       "      <td>69</td>\n",
       "      <td>79</td>\n",
       "    </tr>\n",
       "    <tr>\n",
       "      <th>11</th>\n",
       "      <td>Laki-laki</td>\n",
       "      <td>Eko</td>\n",
       "      <td>65</td>\n",
       "      <td>75</td>\n",
       "    </tr>\n",
       "    <tr>\n",
       "      <th>12</th>\n",
       "      <td>Perempuan</td>\n",
       "      <td>Gita</td>\n",
       "      <td>63</td>\n",
       "      <td>73</td>\n",
       "    </tr>\n",
       "    <tr>\n",
       "      <th>13</th>\n",
       "      <td>Perempuan</td>\n",
       "      <td>Fitri</td>\n",
       "      <td>60</td>\n",
       "      <td>70</td>\n",
       "    </tr>\n",
       "    <tr>\n",
       "      <th>14</th>\n",
       "      <td>Perempuan</td>\n",
       "      <td>Kurnia</td>\n",
       "      <td>39</td>\n",
       "      <td>49</td>\n",
       "    </tr>\n",
       "    <tr>\n",
       "      <th>15</th>\n",
       "      <td>Laki-laki</td>\n",
       "      <td>Didi</td>\n",
       "      <td>89</td>\n",
       "      <td>99</td>\n",
       "    </tr>\n",
       "    <tr>\n",
       "      <th>16</th>\n",
       "      <td>Laki-laki</td>\n",
       "      <td>Didi</td>\n",
       "      <td>89</td>\n",
       "      <td>99</td>\n",
       "    </tr>\n",
       "  </tbody>\n",
       "</table>\n",
       "</div>"
      ],
      "text/plain": [
       "      Kelamin    Nama  Nilai  Nilai_akhir\n",
       "0   Perempuan   April     90          100\n",
       "1   Perempuan     Eka     84           94\n",
       "2   Laki-laki    Andi     80           90\n",
       "3   Perempuan    Dewi     76           86\n",
       "4   Perempuan    Wati     76           86\n",
       "5   Laki-laki  Hafidz     75           85\n",
       "6   Laki-laki   Ihsan     75           85\n",
       "7   Laki-laki  Lukman     75           85\n",
       "8   Perempuan     Iva     74           84\n",
       "9   Perempuan    Tika     73           83\n",
       "10  Perempuan    Maya     69           79\n",
       "11  Laki-laki     Eko     65           75\n",
       "12  Perempuan    Gita     63           73\n",
       "13  Perempuan   Fitri     60           70\n",
       "14  Perempuan  Kurnia     39           49\n",
       "15  Laki-laki    Didi     89           99\n",
       "16  Laki-laki    Didi     89           99"
      ]
     },
     "execution_count": 44,
     "metadata": {},
     "output_type": "execute_result"
    }
   ],
   "source": [
    "data = data.append(baru1).reset_index(drop=True)\n",
    "data"
   ]
  },
  {
   "cell_type": "markdown",
   "metadata": {},
   "source": [
    "## Daftar Pustaka"
   ]
  },
  {
   "cell_type": "markdown",
   "metadata": {},
   "source": [
    "https://medium.com/codelabs-unikom/ketika-python-bertemu-pandas-part-1-993bc9122f13"
   ]
  },
  {
   "cell_type": "code",
   "execution_count": null,
   "metadata": {},
   "outputs": [],
   "source": []
  }
 ],
 "metadata": {
  "kernelspec": {
   "display_name": "Python 3",
   "language": "python",
   "name": "python3"
  },
  "language_info": {
   "codemirror_mode": {
    "name": "ipython",
    "version": 3
   },
   "file_extension": ".py",
   "mimetype": "text/x-python",
   "name": "python",
   "nbconvert_exporter": "python",
   "pygments_lexer": "ipython3",
   "version": "3.6.7"
  },
  "toc": {
   "base_numbering": 1,
   "nav_menu": {},
   "number_sections": true,
   "sideBar": true,
   "skip_h1_title": false,
   "title_cell": "Table of Contents",
   "title_sidebar": "Contents",
   "toc_cell": false,
   "toc_position": {},
   "toc_section_display": true,
   "toc_window_display": false
  },
  "varInspector": {
   "cols": {
    "lenName": 16,
    "lenType": 16,
    "lenVar": 40
   },
   "kernels_config": {
    "python": {
     "delete_cmd_postfix": "",
     "delete_cmd_prefix": "del ",
     "library": "var_list.py",
     "varRefreshCmd": "print(var_dic_list())"
    },
    "r": {
     "delete_cmd_postfix": ") ",
     "delete_cmd_prefix": "rm(",
     "library": "var_list.r",
     "varRefreshCmd": "cat(var_dic_list()) "
    }
   },
   "types_to_exclude": [
    "module",
    "function",
    "builtin_function_or_method",
    "instance",
    "_Feature"
   ],
   "window_display": false
  }
 },
 "nbformat": 4,
 "nbformat_minor": 2
}
